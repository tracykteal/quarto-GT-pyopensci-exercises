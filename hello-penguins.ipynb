{
  "cells": [
    {
      "cell_type": "raw",
      "metadata": {},
      "source": [
        "---\n",
        "title: Hello, Penguins!\n",
        "format: html\n",
        "date: 7/8/2024\n",
        "---"
      ],
      "id": "94ee3fe2"
    },
    {
      "cell_type": "markdown",
      "metadata": {},
      "source": [
        "# Introduction\n",
        "\n",
        "Meet the Palmer Penguins!\n",
        "\n",
        "## Packages\n",
        "\n",
        "For this analysis we'll use a few packages for visualization and data display.\n"
      ],
      "id": "c6155357"
    },
    {
      "cell_type": "code",
      "metadata": {},
      "source": [
        "#| label: import-packages\n",
        "import great_tables as gt\n",
        "import plotnine as p9"
      ],
      "id": "import-packages",
      "execution_count": null,
      "outputs": []
    },
    {
      "cell_type": "markdown",
      "metadata": {},
      "source": [
        "## Data\n",
        "\n",
        "The dataset we'll use comes from the palmerpenguins package.\n"
      ],
      "id": "43eb0b74"
    },
    {
      "cell_type": "code",
      "metadata": {},
      "source": [
        "#| label: import-load-data\n",
        "from palmerpenguins import load_penguins\n",
        "\n",
        "penguins = load_penguins()"
      ],
      "id": "import-load-data",
      "execution_count": null,
      "outputs": []
    },
    {
      "cell_type": "markdown",
      "metadata": {},
      "source": [
        "This dataset contains size measurements, clutch observations, and blood isotope ratios for 344 adult foraging Adélie, Chinstrap, and Gentoo penguins observed on islands in the Palmer Archipelago near Palmer Station, Antarctica.\n",
        "\n",
        "Let's take a peek at the data. The table below shows the first five rows of the `penguins` data frame.\n"
      ],
      "id": "bfa230e4"
    },
    {
      "cell_type": "code",
      "metadata": {},
      "source": [
        "#| label: tbl-penguins-head\n",
        "#| tbl-cap: First five rows of the penguins data frame.\n",
        "(\n",
        "    gt.GT(penguins.head())\n",
        "    .fmt_number(columns = \"body_mass_g\", use_seps = True, decimals = 0)\n",
        ")"
      ],
      "id": "tbl-penguins-head",
      "execution_count": null,
      "outputs": []
    },
    {
      "cell_type": "markdown",
      "metadata": {},
      "source": [
        "# Exploratory analysis\n",
        "\n",
        "## Body mass vs. flipper length\n",
        "\n",
        "The figure below the relationship between body mass and flipper length of penguins.\n"
      ],
      "id": "347dcc5e"
    },
    {
      "cell_type": "code",
      "metadata": {},
      "source": [
        "#| label: fig-penguins-plotnine\n",
        "#| fig-cap: Body mass vs. flipper length of penguins\n",
        "#| fig-alt: 'Scatterplot of body mass vs. flipper length of three species of penguins (Adelie, Gentoo, and Chinstrap) with overlaid linear models for each species. There is a positive relationship between the two variables for each species. Slopes for Adelie and Chinstrap penguins are similar, and the slope for Gentoo penguins is slightly higher. Sizes of Adelie and Chinstrap penguins are also similar, while Gentoo penguins are larger in terms of body mass and flipper length compared to penguins from the other species.'\n",
        "(\n",
        "    p9.ggplot(\n",
        "        penguins, \n",
        "        p9.aes(x = \"flipper_length_mm\", y = \"body_mass_g\", color = \"species\")\n",
        "    )\n",
        "    + p9.geom_point()\n",
        "    + p9.stat_smooth(method = \"lm\")\n",
        "    + p9.scale_color_manual(\n",
        "        values = {\n",
        "            \"Adelie\": \"#FF8C00\", \n",
        "            \"Gentoo\": \"#159090\", \n",
        "            \"Chinstrap\": \"#A034F0\"\n",
        "        }\n",
        "    ) \n",
        "    + p9.theme_minimal()\n",
        "    + p9.labs(\n",
        "        x = \"Flipper length\", \n",
        "        y = \"Body mass\", \n",
        "        color = \"Species\", \n",
        "        title = \"Body mass vs. flipper length of Palmer Penguins\"\n",
        "    )\n",
        ")"
      ],
      "id": "fig-penguins-plotnine",
      "execution_count": null,
      "outputs": []
    }
  ],
  "metadata": {
    "kernelspec": {
      "name": "python3",
      "language": "python",
      "display_name": "Python 3 (ipykernel)"
    }
  },
  "nbformat": 4,
  "nbformat_minor": 5
}